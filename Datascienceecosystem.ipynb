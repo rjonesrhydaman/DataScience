{
 "cells": [
  {
   "cell_type": "markdown",
   "id": "3310efd7-a0f5-445e-a820-48f63b0dd8b3",
   "metadata": {},
   "source": [
    "# Data Science Tools and Ecosystem"
   ]
  },
  {
   "cell_type": "markdown",
   "id": "507e0c9d-edbb-4aa2-adaf-8a75d5d30c5f",
   "metadata": {},
   "source": [
    "In this notebook, Data Science Tools and Ecosystem are summarized."
   ]
  },
  {
   "cell_type": "markdown",
   "id": "a1d36828-093c-46b5-9cfb-1e7960c4be78",
   "metadata": {},
   "source": [
    "Some of the popular languages that Data Scientists use are:\n",
    "1. Python\n",
    "2. R\n",
    "3. Java\n",
    "4. Julia"
   ]
  },
  {
   "cell_type": "markdown",
   "id": "9308c828-d916-43fe-81ca-2b3800f9d9c3",
   "metadata": {},
   "source": [
    "Some of the commonly used libraries used by Data Scientists include:\n",
    "1. Numpy\n",
    "2. SciKit-learn\n",
    "3. Matplotlib\n",
    "4. Pandas\n"
   ]
  },
  {
   "cell_type": "markdown",
   "id": "d62c9384-42c7-410b-bf5b-6b3103ef8cc7",
   "metadata": {
    "tags": []
   },
   "source": [
    "| Data Science tools |\n",
    "|--------------------|\n",
    "| GitHub |\n",
    "| Jupyter Notebook|\n",
    "|R Studio |"
   ]
  },
  {
   "cell_type": "markdown",
   "id": "ee990bba-da79-4af6-9c5f-3ab22719c3d1",
   "metadata": {},
   "source": [
    "### Below are a few examples of evaluating arithmetic expressions in Python"
   ]
  },
  {
   "cell_type": "code",
   "execution_count": 2,
   "id": "fb24f2a7-1057-45e6-8267-c27cdf7a3db1",
   "metadata": {
    "tags": []
   },
   "outputs": [
    {
     "data": {
      "text/plain": [
       "17"
      ]
     },
     "execution_count": 2,
     "metadata": {},
     "output_type": "execute_result"
    }
   ],
   "source": [
    "#This a simple arithmetic expression to mutiply then add integers\n",
    "(3*4)+5"
   ]
  },
  {
   "cell_type": "code",
   "execution_count": 3,
   "id": "31d69f39-f0df-44d2-a1e8-bb7adcbd8691",
   "metadata": {
    "tags": []
   },
   "outputs": [
    {
     "data": {
      "text/plain": [
       "3.3333333333333335"
      ]
     },
     "execution_count": 3,
     "metadata": {},
     "output_type": "execute_result"
    }
   ],
   "source": [
    "#This will convert 200 minutes to hours by dividng by 60\n",
    "200/60"
   ]
  },
  {
   "cell_type": "markdown",
   "id": "65c4b07e-eb78-4e15-9caa-8033c2785b6a",
   "metadata": {},
   "source": [
    "**Objectives:**\n",
    "* Create a jupyter notebook\n",
    "* Insert markdown cells and code cells\n",
    "* Share the notebook through GitHub"
   ]
  },
  {
   "cell_type": "markdown",
   "id": "96e8fdda-1331-4baa-8da1-d03514352439",
   "metadata": {
    "tags": []
   },
   "source": [
    "## Author\n",
    "Robert Jones"
   ]
  },
  {
   "cell_type": "code",
   "execution_count": null,
   "id": "68382b56-0d73-49b5-a106-44a944248509",
   "metadata": {},
   "outputs": [],
   "source": []
  }
 ],
 "metadata": {
  "kernelspec": {
   "display_name": "Python",
   "language": "python",
   "name": "conda-env-python-py"
  },
  "language_info": {
   "codemirror_mode": {
    "name": "ipython",
    "version": 3
   },
   "file_extension": ".py",
   "mimetype": "text/x-python",
   "name": "python",
   "nbconvert_exporter": "python",
   "pygments_lexer": "ipython3",
   "version": "3.7.12"
  }
 },
 "nbformat": 4,
 "nbformat_minor": 5
}
